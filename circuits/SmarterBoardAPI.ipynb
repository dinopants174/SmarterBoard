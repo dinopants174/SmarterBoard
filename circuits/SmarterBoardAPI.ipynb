{
 "metadata": {
  "name": ""
 },
 "nbformat": 3,
 "nbformat_minor": 0,
 "worksheets": [
  {
   "cells": [
    {
     "cell_type": "raw",
     "metadata": {},
     "source": [
      "Notes upon speaking to Ezra: Use IEEE \"Template\" or \"Ideal\" Circuit components and use a Euclidian distance away from these components (in a KNN / SVM type of a way).  SVM's do badly on high dimensional data (slow).   "
     ]
    },
    {
     "cell_type": "raw",
     "metadata": {},
     "source": [
      "1---------1---------1\n",
      "|         |         |\n",
      "Vs        R1        C1\n",
      "|         |         |\n",
      "2-2-R2-1--2---------2"
     ]
    },
    {
     "cell_type": "raw",
     "metadata": {},
     "source": [
      "What a helpful data structure would look like to MAINTAIN THE ORIENTATION as the user has drawn it.\n",
      "\n",
      "--- Circuit ---\n",
      ".extremes = {left: Vs, right: C1, top: None, Bottom: R2}\n",
      "\n",
      "--- Vs ---\n",
      ".orientation = Vertical\n",
      ".pin_ordering = {Top: 1, Bottom: 2}\n",
      "{1: [R1, C1], \n",
      " 2: [R2]}\n",
      "\n",
      "--- R1 ---\n",
      ".orientation = Vertical\n",
      ".pin_ordering = {Top: 1, Bottom: 2}\n",
      "{1: [Vs, C1], \n",
      " 2: [R2, C1]}\n",
      "\n",
      "--- C1 --- \n",
      ".orientation = Vertical\n",
      ".pin_ordering = {Top: 1, Bottom: 2}\n",
      "{1: [R1, Vs],\n",
      "2: [R1, R2]}\n",
      "\n",
      "--- R2 ---\n",
      ".orientation = Horizontal\n",
      ".pin_ordering = {Right: 1, Left: 2}\n",
      "{1: [R1, R2]\n",
      "2: [Vs]}"
     ]
    },
    {
     "cell_type": "markdown",
     "metadata": {},
     "source": [
      "A good algorithm to draw, from the model including orientation and pin ordering, would be to start with extreme components (in order to properly scale the drawing window), look for component2 which connects to component1 and has a orthogonoal orientation to component1 (where component1 is the first component drawn). "
     ]
    },
    {
     "cell_type": "raw",
     "metadata": {},
     "source": [
      "What the ideal MOST ABSTRCTED data structure would look like for circuit above:\n",
      "\n",
      "--- Vs ---\n",
      "{1: [R1, C1], \n",
      " 2: [R2]}\n",
      "\n",
      "--- R1 ---\n",
      "{1: [Vs, C1], \n",
      " 2: [R2, C1]}\n",
      "\n",
      "--- C1 --- \n",
      "{1: [R1, Vs],\n",
      "2: [R1, R2]}\n",
      "\n",
      "--- R2 ---\n",
      "{1: [R1, R2]\n",
      "2: [Vs]}\n",
      "\n",
      "Vs = Component(\"Vs\")\n",
      "Vs.addConnections("
     ]
    },
    {
     "cell_type": "code",
     "collapsed": false,
     "input": [
      "# Let's work on outputting a resistor\n",
      "\n",
      "\n",
      "class Resistor(object):\n",
      "    \n",
      "    def __init__(self):\n",
      "        self._pin_connections = {\n",
      "    \n",
      "    def addPinConnections(self, pin, connections):\n",
      "        pass\n",
      "    \n",
      "    def pins(self):\n",
      "        \"\"\" returns pins as a list \"\"\"\n",
      "        return self._pin_connections.keys()\n",
      "    \n",
      "    def connections(self):\n",
      "        \"\"\" returns connections as a list \"\"\"\n",
      "    \n",
      "    \n",
      "        \n",
      "        "
     ],
     "language": "python",
     "metadata": {},
     "outputs": []
    }
   ],
   "metadata": {}
  }
 ]
}