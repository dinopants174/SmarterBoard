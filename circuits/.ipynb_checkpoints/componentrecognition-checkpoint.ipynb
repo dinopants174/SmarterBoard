{
 "metadata": {
  "name": ""
 },
 "nbformat": 3,
 "nbformat_minor": 0,
 "worksheets": [
  {
   "cells": [
    {
     "cell_type": "code",
     "collapsed": false,
     "input": [
      "%matplotlib inline"
     ],
     "language": "python",
     "metadata": {},
     "outputs": [],
     "prompt_number": 21
    },
    {
     "cell_type": "heading",
     "level": 3,
     "metadata": {},
     "source": [
      "Imports"
     ]
    },
    {
     "cell_type": "code",
     "collapsed": false,
     "input": [
      "# SmarterBoards Software Design Spring 2014 Final Project\n",
      "# An affiliate of Lazy Man Notes - Olin Project, Inc.\n",
      "# Doyung Lee and Ryan Louie \n",
      "\n",
      "# -*- coding: utf-8 -*-\n",
      "import os\n",
      "import sys\n",
      "\n",
      "from scipy import misc\n",
      "from skimage import io, transform, exposure\n",
      "import matplotlib.pyplot as plt\n",
      "import numpy as np\n",
      "import pandas as pd\n",
      "\n",
      "from sklearn.ensemble import RandomForestClassifier\n",
      "\n",
      "from sklearn.cross_validation import train_test_split\n",
      "from sklearn.metrics import confusion_matrix\n",
      "from sklearn.metrics import accuracy_score"
     ],
     "language": "python",
     "metadata": {},
     "outputs": [],
     "prompt_number": 22
    },
    {
     "cell_type": "markdown",
     "metadata": {},
     "source": [
      "We are currently using a <b>Random Forest Classifier</b> on <b>2</b> circuit components.\n",
      "\n",
      "The paper, <a href=\"http://ieeexplore.ieee.org/stamp/stamp.jsp?tp=&arnumber=860185&tag=1\">Machine Recognition of Hand-Drawn Circuit Diagrams</a> , uses a <b>Nearest Neighbor Classifier</b> on <b>9</b> circuit components. \n",
      "\n",
      "More classifiers should be imported from sklearn, and they should be tested\n",
      "\n",
      "<b>TO DO:</b>\n",
      "More classifiers should be imported from sklearn, and they should be compared and evaluated on their accuracy score, keeping other things constant."
     ]
    },
    {
     "cell_type": "heading",
     "level": 3,
     "metadata": {},
     "source": [
      "Data Loading and Formatting"
     ]
    },
    {
     "cell_type": "heading",
     "level": 4,
     "metadata": {},
     "source": [
      "Debugging Linux vs Windows Compatibility"
     ]
    },
    {
     "cell_type": "code",
     "collapsed": false,
     "input": [
      "# Ryan's Linux\n",
      "\n",
      "print pd.__version__ # 0.12.0\n",
      "print np.__version__ # 1.8.1\n",
      "import skimage\n",
      "print skimage.__version__ # 0.9.3\n",
      "import scipy\n",
      "print scipy.__version__ # 0.11.0"
     ],
     "language": "python",
     "metadata": {},
     "outputs": [
      {
       "output_type": "stream",
       "stream": "stdout",
       "text": [
        "0.12.0\n",
        "1.8.1\n",
        "0.9.3\n",
        "0.11.0\n"
       ]
      }
     ],
     "prompt_number": 23
    },
    {
     "cell_type": "code",
     "collapsed": false,
     "input": [
      "OS = \"LINUX\" # Can this be automatically determined?\n",
      "\n",
      "if OS == 'WINDOWS':\n",
      "    TRAIN_DATA_DIR = \"C:\\\\Users\\\\rlouie\\\\Documents\\\\GitHub\\\\SmarterBoard\\\\circuits\\\\data\\\\\"\n",
      "elif OS == \"LINUX\":\n",
      "    TRAIN_DATA_DIR = \"/home/rlouie/SmarterBoard/circuits/data/\"\n",
      "    \n",
      "NUM_TRAIN = 263 # Can this be dynamically read from length of TRAIN_DATA_DIR's contents?"
     ],
     "language": "python",
     "metadata": {},
     "outputs": [],
     "prompt_number": 24
    },
    {
     "cell_type": "code",
     "collapsed": false,
     "input": [
      "def getTrainFilenames(n=75):\n",
      "    filenames = os.listdir(TRAIN_DATA_DIR)\n",
      "    np.random.shuffle(filenames)\n",
      "    filenames = filenames[:n]\n",
      "    return filenames\n",
      "\n",
      "def isResistorFromFilename(filenames):\n",
      "    is_resistor = [fn[:3]==\"res\" for fn in filenames]\n",
      "    return is_resistor\n",
      "\n",
      "def loadImage(filename, scaler = 50):\n",
      "    image = misc.imread(filename)\n",
      "    h = []\n",
      "    for channel in range(3):\n",
      "        tmp = image.astype(np.float64)\n",
      "        h.append(exposure.histogram(tmp[:,:,channel], nbins=10)[0])\n",
      "    image = transform.resize(image, (int(scaler*1.53), int(scaler*2.56))) # small image [m,n] 153px x 256px, largeimage 1552px x 2592px\n",
      "    image = image.flatten()\n",
      "    h = np.array(h)\n",
      "    h = h.flatten()\n",
      "    return np.hstack((image, h))\n",
      "\n",
      "def loadTrain(n=75, verbose=False):\n",
      "    filenames = getTrainFilenames(n)\n",
      "    is_resistor = isResistorFromFilename(filenames)\n",
      "    I = []\n",
      "    if verbose:\n",
      "        for i in range(n):\n",
      "            fn = filenames[i]\n",
      "            print \"loading image \" + fn\n",
      "            I.append(loadImage(TRAIN_DATA_DIR + fn))\n",
      "    else:\n",
      "        for i in range(n):\n",
      "            fn = filenames[i]\n",
      "            sys.stdout.write(\".\")\n",
      "            I.append(loadImage(TRAIN_DATA_DIR + fn))      \n",
      "    return I, is_resistor\n"
     ],
     "language": "python",
     "metadata": {},
     "outputs": [],
     "prompt_number": 25
    },
    {
     "cell_type": "heading",
     "level": 4,
     "metadata": {},
     "source": [
      "Image Sizes"
     ]
    },
    {
     "cell_type": "markdown",
     "metadata": {},
     "source": [
      "Dimensions of each image follow a <b>1.53</b> by <b>2.56</b> m x n aspect ratio.  This adheres to the landscape orientation picture we took with Doyung's smartphone camera.  We adjust the number of pixels in the horizontal and vertical pixels by a scaling factor.  \n",
      "\n",
      "The challenge will be finding the right balance between having too few and too many pixels/features.  Too few, and the image is too pixelated for the classifier to pick up distinguishing features.  Too many, and the placement of the circuit component in the picture will have too drastic of an affect?\n",
      "\n",
      "\n",
      "\n"
     ]
    },
    {
     "cell_type": "code",
     "collapsed": false,
     "input": [
      "fn = TRAIN_DATA_DIR + \"resistor1.jpg\"\n",
      "image = misc.imread(fn)\n",
      "print image\n",
      "print image.shape\n",
      "# def showcomponent(fn=\"capacitor1.jpg\",scaler=100):\n",
      "#     \"\"\" displays resistor1.jpg \"\"\"\n",
      "#     filename = (TRAIN_DATA_DIR + fn)\n",
      "#     print filename\n",
      "#     image = misc.imread(filename)\n",
      "#     print image.shape\n",
      "#     image = transform.resize(image, (int(scaler*1.53), int(scaler*2.56))) # small image 256px x 153px, largeimage 2592px 1552px\n",
      "#     plt.imshow(image)\n",
      "#     plt.title(\"Scaler={}\".format(scaler))\n",
      "#     plt.xlabel('pixels')\n",
      "#     plt.ylabel('pixels')\n",
      "#     plt.show()\n",
      "    \n",
      "# showcomponent(scaler=15)\n",
      "# showcomponent(scaler=30)\n",
      "# showcomponent(scaler=50)\n",
      "# showcomponent(scaler=85)\n",
      "# # showcomponent(fn=\"capacitor33.jpg\",scaler=40)\n"
     ],
     "language": "python",
     "metadata": {},
     "outputs": [
      {
       "output_type": "stream",
       "stream": "stdout",
       "text": [
        "<PIL.JpegImagePlugin.JpegImageFile image mode=RGB size=256x153 at 0x49D4248>\n",
        "()\n"
       ]
      }
     ],
     "prompt_number": 30
    },
    {
     "cell_type": "heading",
     "level": 3,
     "metadata": {},
     "source": [
      "Let the machine learning workflow take affect!"
     ]
    },
    {
     "cell_type": "code",
     "collapsed": false,
     "input": [
      "# --- Do Machine Learning!\n",
      "\n",
      "# Load Data\n",
      "I, is_resistor = loadTrain(NUM_TRAIN)\n",
      "I, is_resistor = (np.array(I), np.array(is_resistor))\n",
      "\n",
      "# Split into Train/Test sets\n",
      "I_train, I_test, is_resistor_train, is_resistor_test = train_test_split(I, is_resistor, train_size=.6)\n",
      "\n",
      "# Train Model\n",
      "clf = RandomForestClassifier()\n",
      "clf.fit(I_train, is_resistor_train)\n",
      "\n",
      "# Evaluate Predictions\n",
      "is_resistor_predict = clf.predict(I_test)\n",
      "print \"\\naccuracy: \" + str(accuracy_score(is_resistor_test,is_resistor_predict))\n"
     ],
     "language": "python",
     "metadata": {},
     "outputs": [
      {
       "ename": "IndexError",
       "evalue": "0-d arrays can only use a single () or a list of newaxes (and a single ...) as an index",
       "output_type": "pyerr",
       "traceback": [
        "\u001b[1;31m---------------------------------------------------------------------------\u001b[0m\n\u001b[1;31mIndexError\u001b[0m                                Traceback (most recent call last)",
        "\u001b[1;32m<ipython-input-27-8a057aeef201>\u001b[0m in \u001b[0;36m<module>\u001b[1;34m()\u001b[0m\n\u001b[0;32m      2\u001b[0m \u001b[1;33m\u001b[0m\u001b[0m\n\u001b[0;32m      3\u001b[0m \u001b[1;31m# Load Data\u001b[0m\u001b[1;33m\u001b[0m\u001b[1;33m\u001b[0m\u001b[0m\n\u001b[1;32m----> 4\u001b[1;33m \u001b[0mI\u001b[0m\u001b[1;33m,\u001b[0m \u001b[0mis_resistor\u001b[0m \u001b[1;33m=\u001b[0m \u001b[0mloadTrain\u001b[0m\u001b[1;33m(\u001b[0m\u001b[0mNUM_TRAIN\u001b[0m\u001b[1;33m)\u001b[0m\u001b[1;33m\u001b[0m\u001b[0m\n\u001b[0m\u001b[0;32m      5\u001b[0m \u001b[0mI\u001b[0m\u001b[1;33m,\u001b[0m \u001b[0mis_resistor\u001b[0m \u001b[1;33m=\u001b[0m \u001b[1;33m(\u001b[0m\u001b[0mnp\u001b[0m\u001b[1;33m.\u001b[0m\u001b[0marray\u001b[0m\u001b[1;33m(\u001b[0m\u001b[0mI\u001b[0m\u001b[1;33m)\u001b[0m\u001b[1;33m,\u001b[0m \u001b[0mnp\u001b[0m\u001b[1;33m.\u001b[0m\u001b[0marray\u001b[0m\u001b[1;33m(\u001b[0m\u001b[0mis_resistor\u001b[0m\u001b[1;33m)\u001b[0m\u001b[1;33m)\u001b[0m\u001b[1;33m\u001b[0m\u001b[0m\n\u001b[0;32m      6\u001b[0m \u001b[1;33m\u001b[0m\u001b[0m\n",
        "\u001b[1;32m<ipython-input-25-b766935e19b6>\u001b[0m in \u001b[0;36mloadTrain\u001b[1;34m(n, verbose)\u001b[0m\n\u001b[0;32m     34\u001b[0m             \u001b[0mfn\u001b[0m \u001b[1;33m=\u001b[0m \u001b[0mfilenames\u001b[0m\u001b[1;33m[\u001b[0m\u001b[0mi\u001b[0m\u001b[1;33m]\u001b[0m\u001b[1;33m\u001b[0m\u001b[0m\n\u001b[0;32m     35\u001b[0m             \u001b[0msys\u001b[0m\u001b[1;33m.\u001b[0m\u001b[0mstdout\u001b[0m\u001b[1;33m.\u001b[0m\u001b[0mwrite\u001b[0m\u001b[1;33m(\u001b[0m\u001b[1;34m\".\"\u001b[0m\u001b[1;33m)\u001b[0m\u001b[1;33m\u001b[0m\u001b[0m\n\u001b[1;32m---> 36\u001b[1;33m             \u001b[0mI\u001b[0m\u001b[1;33m.\u001b[0m\u001b[0mappend\u001b[0m\u001b[1;33m(\u001b[0m\u001b[0mloadImage\u001b[0m\u001b[1;33m(\u001b[0m\u001b[0mTRAIN_DATA_DIR\u001b[0m \u001b[1;33m+\u001b[0m \u001b[0mfn\u001b[0m\u001b[1;33m)\u001b[0m\u001b[1;33m)\u001b[0m\u001b[1;33m\u001b[0m\u001b[0m\n\u001b[0m\u001b[0;32m     37\u001b[0m     \u001b[1;32mreturn\u001b[0m \u001b[0mI\u001b[0m\u001b[1;33m,\u001b[0m \u001b[0mis_resistor\u001b[0m\u001b[1;33m\u001b[0m\u001b[0m\n",
        "\u001b[1;32m<ipython-input-25-b766935e19b6>\u001b[0m in \u001b[0;36mloadImage\u001b[1;34m(filename, scaler)\u001b[0m\n\u001b[0;32m     14\u001b[0m     \u001b[1;32mfor\u001b[0m \u001b[0mchannel\u001b[0m \u001b[1;32min\u001b[0m \u001b[0mrange\u001b[0m\u001b[1;33m(\u001b[0m\u001b[1;36m3\u001b[0m\u001b[1;33m)\u001b[0m\u001b[1;33m:\u001b[0m\u001b[1;33m\u001b[0m\u001b[0m\n\u001b[0;32m     15\u001b[0m         \u001b[0mtmp\u001b[0m \u001b[1;33m=\u001b[0m \u001b[0mimage\u001b[0m\u001b[1;33m.\u001b[0m\u001b[0mastype\u001b[0m\u001b[1;33m(\u001b[0m\u001b[0mnp\u001b[0m\u001b[1;33m.\u001b[0m\u001b[0mfloat64\u001b[0m\u001b[1;33m)\u001b[0m\u001b[1;33m\u001b[0m\u001b[0m\n\u001b[1;32m---> 16\u001b[1;33m         \u001b[0mh\u001b[0m\u001b[1;33m.\u001b[0m\u001b[0mappend\u001b[0m\u001b[1;33m(\u001b[0m\u001b[0mexposure\u001b[0m\u001b[1;33m.\u001b[0m\u001b[0mhistogram\u001b[0m\u001b[1;33m(\u001b[0m\u001b[0mtmp\u001b[0m\u001b[1;33m[\u001b[0m\u001b[1;33m:\u001b[0m\u001b[1;33m,\u001b[0m\u001b[1;33m:\u001b[0m\u001b[1;33m,\u001b[0m\u001b[0mchannel\u001b[0m\u001b[1;33m]\u001b[0m\u001b[1;33m,\u001b[0m \u001b[0mnbins\u001b[0m\u001b[1;33m=\u001b[0m\u001b[1;36m10\u001b[0m\u001b[1;33m)\u001b[0m\u001b[1;33m[\u001b[0m\u001b[1;36m0\u001b[0m\u001b[1;33m]\u001b[0m\u001b[1;33m)\u001b[0m\u001b[1;33m\u001b[0m\u001b[0m\n\u001b[0m\u001b[0;32m     17\u001b[0m     \u001b[0mimage\u001b[0m \u001b[1;33m=\u001b[0m \u001b[0mtransform\u001b[0m\u001b[1;33m.\u001b[0m\u001b[0mresize\u001b[0m\u001b[1;33m(\u001b[0m\u001b[0mimage\u001b[0m\u001b[1;33m,\u001b[0m \u001b[1;33m(\u001b[0m\u001b[0mint\u001b[0m\u001b[1;33m(\u001b[0m\u001b[0mscaler\u001b[0m\u001b[1;33m*\u001b[0m\u001b[1;36m1.53\u001b[0m\u001b[1;33m)\u001b[0m\u001b[1;33m,\u001b[0m \u001b[0mint\u001b[0m\u001b[1;33m(\u001b[0m\u001b[0mscaler\u001b[0m\u001b[1;33m*\u001b[0m\u001b[1;36m2.56\u001b[0m\u001b[1;33m)\u001b[0m\u001b[1;33m)\u001b[0m\u001b[1;33m)\u001b[0m \u001b[1;31m# small image [m,n] 153px x 256px, largeimage 1552px x 2592px\u001b[0m\u001b[1;33m\u001b[0m\u001b[0m\n\u001b[0;32m     18\u001b[0m     \u001b[0mimage\u001b[0m \u001b[1;33m=\u001b[0m \u001b[0mimage\u001b[0m\u001b[1;33m.\u001b[0m\u001b[0mflatten\u001b[0m\u001b[1;33m(\u001b[0m\u001b[1;33m)\u001b[0m\u001b[1;33m\u001b[0m\u001b[0m\n",
        "\u001b[1;31mIndexError\u001b[0m: 0-d arrays can only use a single () or a list of newaxes (and a single ...) as an index"
       ]
      },
      {
       "output_type": "stream",
       "stream": "stdout",
       "text": [
        "."
       ]
      }
     ],
     "prompt_number": 27
    },
    {
     "cell_type": "heading",
     "level": 3,
     "metadata": {},
     "source": [
      "Analyze Model Performance, Improve Approach"
     ]
    },
    {
     "cell_type": "code",
     "collapsed": false,
     "input": [
      "# Confusion Matrix\n",
      "cm = confusion_matrix(is_resistor_test, is_resistor_predict)\n",
      "plt.matshow(cm)\n",
      "plt.title('Confusion matrix')\n",
      "plt.colorbar()\n",
      "plt.ylabel('True label')\n",
      "plt.xlabel('Predicted label')\n",
      "plt.clim(vmin=0)\n",
      "plt.show()"
     ],
     "language": "python",
     "metadata": {},
     "outputs": [
      {
       "ename": "NameError",
       "evalue": "name 'is_resistor_test' is not defined",
       "output_type": "pyerr",
       "traceback": [
        "\u001b[1;31m---------------------------------------------------------------------------\u001b[0m\n\u001b[1;31mNameError\u001b[0m                                 Traceback (most recent call last)",
        "\u001b[1;32m<ipython-input-28-563b8073082f>\u001b[0m in \u001b[0;36m<module>\u001b[1;34m()\u001b[0m\n\u001b[0;32m      1\u001b[0m \u001b[1;31m# Confusion Matrix\u001b[0m\u001b[1;33m\u001b[0m\u001b[1;33m\u001b[0m\u001b[0m\n\u001b[1;32m----> 2\u001b[1;33m \u001b[0mcm\u001b[0m \u001b[1;33m=\u001b[0m \u001b[0mconfusion_matrix\u001b[0m\u001b[1;33m(\u001b[0m\u001b[0mis_resistor_test\u001b[0m\u001b[1;33m,\u001b[0m \u001b[0mis_resistor_predict\u001b[0m\u001b[1;33m)\u001b[0m\u001b[1;33m\u001b[0m\u001b[0m\n\u001b[0m\u001b[0;32m      3\u001b[0m \u001b[0mplt\u001b[0m\u001b[1;33m.\u001b[0m\u001b[0mmatshow\u001b[0m\u001b[1;33m(\u001b[0m\u001b[0mcm\u001b[0m\u001b[1;33m)\u001b[0m\u001b[1;33m\u001b[0m\u001b[0m\n\u001b[0;32m      4\u001b[0m \u001b[0mplt\u001b[0m\u001b[1;33m.\u001b[0m\u001b[0mtitle\u001b[0m\u001b[1;33m(\u001b[0m\u001b[1;34m'Confusion matrix'\u001b[0m\u001b[1;33m)\u001b[0m\u001b[1;33m\u001b[0m\u001b[0m\n\u001b[0;32m      5\u001b[0m \u001b[0mplt\u001b[0m\u001b[1;33m.\u001b[0m\u001b[0mcolorbar\u001b[0m\u001b[1;33m(\u001b[0m\u001b[1;33m)\u001b[0m\u001b[1;33m\u001b[0m\u001b[0m\n",
        "\u001b[1;31mNameError\u001b[0m: name 'is_resistor_test' is not defined"
       ]
      }
     ],
     "prompt_number": 28
    }
   ],
   "metadata": {}
  }
 ]
}