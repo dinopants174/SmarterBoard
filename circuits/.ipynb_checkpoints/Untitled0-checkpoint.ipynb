{
 "metadata": {
  "name": ""
 },
 "nbformat": 3,
 "nbformat_minor": 0,
 "worksheets": [
  {
   "cells": [
    {
     "cell_type": "code",
     "collapsed": false,
     "input": [
      "class Test():\n",
      "    a = 0\n",
      "    b = 1\n",
      "    def __init__(self):\n",
      "        self.zero = self.a\n",
      "        self.one = self.b\n",
      "\n",
      "t = Test()\n",
      "t.zero\n"
     ],
     "language": "python",
     "metadata": {},
     "outputs": [
      {
       "metadata": {},
       "output_type": "pyout",
       "prompt_number": 3,
       "text": [
        "0"
       ]
      }
     ],
     "prompt_number": 3
    }
   ],
   "metadata": {}
  }
 ]
}