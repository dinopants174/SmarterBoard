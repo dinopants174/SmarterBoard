{
 "metadata": {
  "name": ""
 },
 "nbformat": 3,
 "nbformat_minor": 0,
 "worksheets": [
  {
   "cells": [
    {
     "cell_type": "code",
     "collapsed": false,
     "input": [
      "%cd ~/SmarterBoard/circuits/\n",
      "\n",
      "from scipy import misc\n",
      "import numpy as np\n",
      "import Image\n",
      "\n",
      "data_dir = \"/home/rlouie/SmarterBoard/circuits/data/\"\n",
      "fn = \"resistor1.jpg\"\n",
      "filename = data_dir + fn\n",
      "\n",
      "\n",
      "a = np.array(Image.open(filename))\n"
     ],
     "language": "python",
     "metadata": {},
     "outputs": [
      {
       "output_type": "stream",
       "stream": "stdout",
       "text": [
        "/home/rlouie/SmarterBoard/circuits\n"
       ]
      },
      {
       "metadata": {},
       "output_type": "pyout",
       "prompt_number": 7,
       "text": [
        "array(<JpegImagePlugin.JpegImageFile image mode=RGB size=256x153 at 0x26DB440>, dtype=object)"
       ]
      }
     ],
     "prompt_number": 7
    }
   ],
   "metadata": {}
  }
 ]
}