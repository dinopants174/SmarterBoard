{
 "metadata": {
  "name": ""
 },
 "nbformat": 3,
 "nbformat_minor": 0,
 "worksheets": [
  {
   "cells": [
    {
     "cell_type": "code",
     "collapsed": false,
     "input": [
      "import os\n",
      "from scipy import misc\n",
      "import numpy as np\n",
      "from PIL import Image\n",
      "\n",
      "if os.name == 'nt':\n",
      "    data_dir = \"C:\\\\Users\\\\rlouie\\\\Documents\\\\GitHub\\\\SmarterBoard\\\\circuits\\\\data\\\\\"\n",
      "else:\n",
      "    data_dir = \"/home/rlouie/SmarterBoard/circuits/data/\"\n",
      "\n",
      "fn = \"resistor1.jpg\"\n",
      "filename = data_dir + fn\n",
      "\n",
      "image_file = Image.open(filename) # open colour image\n",
      "image_file = image_file.convert('1') # convert image to black and white\n"
     ],
     "language": "python",
     "metadata": {},
     "outputs": [],
     "prompt_number": 6
    },
    {
     "cell_type": "code",
     "collapsed": false,
     "input": [
      "from PIL import Image\n",
      "import numpy as np\n",
      "\n",
      "col = Image.open(filename)\n",
      "gray = col.convert('L')\n",
      "\n",
      "# Let numpy do the heavy lifting for converting pixels to pure black or white\n",
      "bw = np.asarray(gray).copy()\n",
      "\n",
      "# Pixel range is 0...255, 256/2 = 128\n",
      "bw[bw < 128] = 0    # Black\n",
      "bw[bw >= 128] = 255 # White\n",
      "\n",
      "# Now we put it back in Pillow/PIL land\n",
      "imfile = Image.fromarray(bw)\n",
      "\n"
     ],
     "language": "python",
     "metadata": {},
     "outputs": [],
     "prompt_number": 9
    },
    {
     "cell_type": "code",
     "collapsed": false,
     "input": [
      "from scipy import misc\n",
      "\n",
      "im = misc.imread(filename,True)\n",
      "im = im/255\n",
      "im\n",
      "# im.resize((int(1.53*scaler),int(2.56*scaler)))\n",
      "\n"
     ],
     "language": "python",
     "metadata": {},
     "outputs": [
      {
       "metadata": {},
       "output_type": "pyout",
       "prompt_number": 29,
       "text": [
        "array([[ 0.66640002,  0.69138038,  0.68656474, ...,  0.68299609,\n",
        "         0.68299609,  0.68299609],\n",
        "       [ 0.66158432,  0.68745881,  0.68935686, ...,  0.68299609,\n",
        "         0.68299609,  0.68299609],\n",
        "       [ 0.65911376,  0.68264318,  0.68729019, ...,  0.68299609,\n",
        "         0.68299609,  0.67907453],\n",
        "       ..., \n",
        "       [ 0.46306667,  0.46698824,  0.47483137, ...,  0.60513723,\n",
        "         0.60121566,  0.59729409],\n",
        "       [ 0.4591451 ,  0.46698824,  0.47875294, ...,  0.60513723,\n",
        "         0.60121566,  0.59729409],\n",
        "       [ 0.46698824,  0.4709098 ,  0.47483137, ...,  0.59729409,\n",
        "         0.60121566,  0.60121566]], dtype=float32)"
       ]
      }
     ],
     "prompt_number": 29
    }
   ],
   "metadata": {}
  }
 ]
}