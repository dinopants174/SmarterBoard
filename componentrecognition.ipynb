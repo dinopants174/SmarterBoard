{
 "metadata": {
  "name": ""
 },
 "nbformat": 3,
 "nbformat_minor": 0,
 "worksheets": [
  {
   "cells": [
    {
     "cell_type": "code",
     "collapsed": false,
     "input": [
      "import os\n",
      "\n",
      "from scipy import misc\n",
      "from skimage import io, transform, exposure\n",
      "import matplotlib.pyplot as plt\n",
      "import numpy as np\n",
      "import pandas as pd\n",
      "\n",
      "from sklearn.ensemble import RandomForestClassifier\n",
      "from sklearn.cross_validation import train_test_split\n",
      "from sklearn.metrics import confusion_matrix\n",
      "from sklearn.metrics import accuracy_score"
     ],
     "language": "python",
     "metadata": {},
     "outputs": [],
     "prompt_number": 15
    },
    {
     "cell_type": "code",
     "collapsed": false,
     "input": [
      "TRAIN_DATA_DIR = \"C:\\\\Users\\\\rlouie\\\\Documents\\\\GitHub\\\\SmarterBoard\\\\data\\\\\"\n",
      "\n",
      "def getTrainFilenames(n=75):\n",
      "    filenames = os.listdir(TRAIN_DATA_DIR)\n",
      "    np.random.shuffle(filenames)\n",
      "    filenames = filenames[:n]\n",
      "    return filenames"
     ],
     "language": "python",
     "metadata": {},
     "outputs": [],
     "prompt_number": 16
    },
    {
     "cell_type": "code",
     "collapsed": false,
     "input": [
      "def isResistorFromFilename(filenames):\n",
      "    is_resistor = [fn[:3]==\"res\" for fn in filenames]\n",
      "    return is_resistor\n"
     ],
     "language": "python",
     "metadata": {},
     "outputs": [],
     "prompt_number": 17
    },
    {
     "cell_type": "code",
     "collapsed": false,
     "input": [
      "def loadImage(filename):\n",
      "    image = misc.imread(filename)\n",
      "    h = []\n",
      "    for channel in range(3):\n",
      "        tmp = image.astype(np.float64)\n",
      "        h.append(exposure.histogram(tmp[:,:,channel], nbins=10)[0])\n",
      "    image = transform.resize(image, (40, 40)) # small image 256px x 153px, largeimage 2592px 1552px\n",
      "    image = image.flatten()\n",
      "    h = np.array(h)\n",
      "    h = h.flatten()\n",
      "    return np.hstack((image, h))"
     ],
     "language": "python",
     "metadata": {},
     "outputs": [],
     "prompt_number": 18
    },
    {
     "cell_type": "code",
     "collapsed": false,
     "input": [
      "def loadTrain(n=75):\n",
      "    filenames = getTrainFilenames(n)\n",
      "    is_resistor = isResistorFromFilename(filenames)\n",
      "    I = []\n",
      "    for i in range(n):\n",
      "        fn = filenames[i]\n",
      "        print \"loading image \" + fn\n",
      "        I.append(loadImage(TRAIN_DATA_DIR + fn))\n",
      "    return I, is_resistor"
     ],
     "language": "python",
     "metadata": {},
     "outputs": [],
     "prompt_number": 19
    },
    {
     "cell_type": "code",
     "collapsed": false,
     "input": [
      "# displays resistor1.jpg\n",
      "filename = (TRAIN_DATA_DIR + \"resistor1.jpg\")\n",
      "image = misc.imread(filename)\n",
      "plt.imshow(image)\n",
      "plt.show()"
     ],
     "language": "python",
     "metadata": {},
     "outputs": [],
     "prompt_number": 26
    },
    {
     "cell_type": "code",
     "collapsed": false,
     "input": [],
     "language": "python",
     "metadata": {},
     "outputs": [],
     "prompt_number": "*"
    }
   ],
   "metadata": {}
  }
 ]
}