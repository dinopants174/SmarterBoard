{
 "metadata": {
  "name": ""
 },
 "nbformat": 3,
 "nbformat_minor": 0,
 "worksheets": [
  {
   "cells": [
    {
     "cell_type": "code",
     "collapsed": false,
     "input": [
      "# SmarterBoards Software Design Spring 2014 Final Project\n",
      "# An affiliate of Lazy Man Notes - Olin Project, Inc.\n",
      "# Doyung Lee and Ryan Louie \n",
      "\n",
      "# -*- coding: utf-8 -*-\n",
      "import os\n",
      "import sys\n",
      "\n",
      "from scipy import misc\n",
      "from skimage import io, transform, exposure\n",
      "import matplotlib.pyplot as plt\n",
      "import numpy as np\n",
      "import pandas as pd\n",
      "\n",
      "from sklearn.ensemble import RandomForestClassifier\n",
      "\n",
      "from sklearn.cross_validation import train_test_split\n",
      "from sklearn.metrics import confusion_matrix\n",
      "from sklearn.metrics import accuracy_score\n",
      "\n",
      "TRAIN_DATA_DIR = \"C:\\\\Users\\\\rlouie\\\\Documents\\\\GitHub\\\\SmarterBoard\\\\data\\\\\"\n",
      "\n",
      "# --- Functions\n",
      "\n",
      "def getTrainFilenames(n=75):\n",
      "    filenames = os.listdir(TRAIN_DATA_DIR)\n",
      "    np.random.shuffle(filenames)\n",
      "    filenames = filenames[:n]\n",
      "    return filenames\n",
      "\n",
      "def isResistorFromFilename(filenames):\n",
      "    is_resistor = [fn[:3]==\"res\" for fn in filenames]\n",
      "    return is_resistor\n",
      "\n",
      "def loadImage(filename):\n",
      "    scaler = 15\n",
      "    image = misc.imread(filename)\n",
      "    h = []\n",
      "    for channel in range(3):\n",
      "        tmp = image.astype(np.float64)\n",
      "        h.append(exposure.histogram(tmp[:,:,channel], nbins=10)[0])\n",
      "    image = transform.resize(image, (int(scaler*2.56), int(scaler*1.53))) # small image 256px x 153px, largeimage 2592px 1552px\n",
      "    image = image.flatten()\n",
      "    h = np.array(h)\n",
      "    h = h.flatten()\n",
      "    return np.hstack((image, h))\n",
      "\n",
      "def loadTrain(n=75, verbose=False):\n",
      "    filenames = getTrainFilenames(n)\n",
      "    is_resistor = isResistorFromFilename(filenames)\n",
      "    I = []\n",
      "    if verbose:\n",
      "        for i in range(n):\n",
      "            fn = filenames[i]\n",
      "            print \"loading image \" + fn\n",
      "            I.append(loadImage(TRAIN_DATA_DIR + fn))\n",
      "    else:\n",
      "        for i in range(n):\n",
      "            fn = filenames[i]\n",
      "            sys.stdout.write(\".\")\n",
      "            I.append(loadImage(TRAIN_DATA_DIR + fn))      \n",
      "    return I, is_resistor\n",
      "\n",
      "def showcomponent(fn=\"resistor1.jpg\"):\n",
      "    \"\"\" displays resistor1.jpg \"\"\"\n",
      "    filename = (TRAIN_DATA_DIR + fn)\n",
      "    image = misc.imread(filename)\n",
      "    plt.imshow(image)\n",
      "    plt.show()\n"
     ],
     "language": "python",
     "metadata": {},
     "outputs": [],
     "prompt_number": 57
    },
    {
     "cell_type": "code",
     "collapsed": false,
     "input": [
      "# --- Do Machine Learning!\n",
      "\n",
      "# Load Data\n",
      "I, is_resistor = loadTrain(84)\n",
      "I, is_resistor = (np.array(I), np.array(is_resistor))\n",
      "\n",
      "# Split into Train/Test sets\n",
      "I_train, I_test, is_resistor_train, is_resistor_test = train_test_split(I, is_resistor, train_size=.6)\n",
      "\n",
      "# Train Model\n",
      "clf = RandomForestClassifier()\n",
      "clf.fit(I_train, is_resistor_train)\n",
      "\n",
      "# Evaluate Predictions\n",
      "is_resistor_predict = clf.predict(I_test)\n",
      "print \"accuracy: \" + str(accuracy_score(is_resistor_test,is_resistor_predict))\n"
     ],
     "language": "python",
     "metadata": {},
     "outputs": [
      {
       "output_type": "stream",
       "stream": "stdout",
       "text": [
        "......."
       ]
      },
      {
       "output_type": "stream",
       "stream": "stdout",
       "text": [
        "........."
       ]
      },
      {
       "output_type": "stream",
       "stream": "stdout",
       "text": [
        "........."
       ]
      },
      {
       "output_type": "stream",
       "stream": "stdout",
       "text": [
        "........"
       ]
      },
      {
       "output_type": "stream",
       "stream": "stdout",
       "text": [
        "........."
       ]
      },
      {
       "output_type": "stream",
       "stream": "stdout",
       "text": [
        "........."
       ]
      },
      {
       "output_type": "stream",
       "stream": "stdout",
       "text": [
        "........."
       ]
      },
      {
       "output_type": "stream",
       "stream": "stdout",
       "text": [
        "........."
       ]
      },
      {
       "output_type": "stream",
       "stream": "stdout",
       "text": [
        "........."
       ]
      },
      {
       "output_type": "stream",
       "stream": "stdout",
       "text": [
        "......accuracy: 0.647058823529"
       ]
      },
      {
       "output_type": "stream",
       "stream": "stdout",
       "text": [
        "\n"
       ]
      }
     ],
     "prompt_number": 99
    },
    {
     "cell_type": "code",
     "collapsed": false,
     "input": [
      "# Confusion Matrix\n",
      "cm = confusion_matrix(is_resistor_test, is_resistor_predict)\n",
      "plt.matshow(cm)\n",
      "plt.title('Confusion matrix')\n",
      "plt.colorbar()\n",
      "plt.ylabel('True label')\n",
      "plt.xlabel('Predicted label')\n",
      "plt.clim(vmin=0)\n",
      "plt.show()"
     ],
     "language": "python",
     "metadata": {},
     "outputs": [],
     "prompt_number": 56
    }
   ],
   "metadata": {}
  }
 ]
}